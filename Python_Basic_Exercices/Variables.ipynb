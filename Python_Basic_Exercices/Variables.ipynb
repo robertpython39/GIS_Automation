{
 "cells": [
  {
   "cell_type": "markdown",
   "id": "7bae00a9-40c7-420e-a609-3febae714d12",
   "metadata": {},
   "source": [
    " # Variables & Data Types"
   ]
  },
  {
   "cell_type": "markdown",
   "id": "22e43dac-8a40-4b59-87c8-3c1464146389",
   "metadata": {},
   "source": [
    "#### Store your name, age, and city in variables and print a sentence."
   ]
  },
  {
   "cell_type": "code",
   "execution_count": 8,
   "id": "2fa60181-edbd-42ae-a297-d78d1f37587b",
   "metadata": {},
   "outputs": [],
   "source": [
    "name = \"Robert Mihai Nicolescu\"\n",
    "age = 33\n",
    "city = \"Bucharest\""
   ]
  },
  {
   "cell_type": "code",
   "execution_count": 9,
   "id": "b889b5da-f3ff-45ab-86b1-dd292aad50a3",
   "metadata": {},
   "outputs": [
    {
     "name": "stdout",
     "output_type": "stream",
     "text": [
      "Hello, my name is Robert Mihai Nicolescu\n",
      "I am 33 years old\n",
      "And I live in Bucharest\n"
     ]
    }
   ],
   "source": [
    "print(f\"Hello, my name is {name}\")\n",
    "print(f\"I am {age} years old\")\n",
    "print(f\"And I live in {city}\")"
   ]
  },
  {
   "cell_type": "markdown",
   "id": "aa7116d1-caf9-48b8-8edc-55bae510b154",
   "metadata": {},
   "source": [
    "#### Calculate the area and perimeter of a rectangle."
   ]
  },
  {
   "cell_type": "code",
   "execution_count": 11,
   "id": "11d2610a-6de7-4ec5-9325-4847af759ccc",
   "metadata": {},
   "outputs": [],
   "source": [
    "A = 22\n",
    "B = 10\n",
    "C = 22\n",
    "D = 10"
   ]
  },
  {
   "cell_type": "code",
   "execution_count": 12,
   "id": "906e4494-0833-491b-baf9-7810c25f0493",
   "metadata": {},
   "outputs": [
    {
     "name": "stdout",
     "output_type": "stream",
     "text": [
      "Area of rectangle is: 220\n",
      "Perimeter of rectangle is: 64\n"
     ]
    }
   ],
   "source": [
    "# Are is Area = L*l\n",
    "area = A * B\n",
    "# Perimeter is P = (L + l) * 2\n",
    "perimeter = (A + B) * 2\n",
    "print(f\"Area of rectangle is: {area}\")\n",
    "print(f\"Perimeter of rectangle is: {perimeter}\")"
   ]
  },
  {
   "cell_type": "markdown",
   "id": "d7adabeb-136a-45bb-8214-d416d437ad17",
   "metadata": {},
   "source": [
    "#### Convert a temperature from Celsius to Fahrenheit."
   ]
  },
  {
   "cell_type": "code",
   "execution_count": 17,
   "id": "7512cda7-2fae-4e37-8733-9f52bc92eea2",
   "metadata": {},
   "outputs": [
    {
     "name": "stdin",
     "output_type": "stream",
     "text": [
      "Provide a number to convert Celsius to Fahrenheit: 22\n"
     ]
    },
    {
     "name": "stdout",
     "output_type": "stream",
     "text": [
      "22 °C = 71.6 °F\n"
     ]
    }
   ],
   "source": [
    "# Formula for converting Celsius to Fahrenheit is: °F = (°C × 9/5) + 32\n",
    "user_input = int(input(\"Provide a number to convert Celsius to Fahrenheit:\"))\n",
    "conversion = (user_input * 9 / 5) + 32\n",
    "print(f\"{user_input} °C = {conversion} °F\")"
   ]
  },
  {
   "cell_type": "markdown",
   "id": "8c3f5320-82cb-4c2b-a694-07c163ba8f14",
   "metadata": {},
   "source": [
    "#### Check if a number is positive or negative using a boolean variable."
   ]
  },
  {
   "cell_type": "code",
   "execution_count": 61,
   "id": "36a81386-cc73-4e0c-a03f-051fcd79e431",
   "metadata": {},
   "outputs": [
    {
     "name": "stdout",
     "output_type": "stream",
     "text": [
      "True\n"
     ]
    }
   ],
   "source": [
    "check_number = 22\n",
    "if (check_number > 0):\n",
    "    print(True)\n",
    "else:\n",
    "    print(False)"
   ]
  },
  {
   "cell_type": "markdown",
   "id": "9ad781cb-d557-4507-b801-879bcc159a95",
   "metadata": {},
   "source": [
    "#### Take two numbers and swap their values without using a third variable."
   ]
  },
  {
   "cell_type": "code",
   "execution_count": 67,
   "id": "02dfb845-2783-49be-86ae-acbafe6b1275",
   "metadata": {},
   "outputs": [
    {
     "name": "stdout",
     "output_type": "stream",
     "text": [
      "Original value for variable 'a': 5\n",
      "Original value for variable 'b': 10\n",
      "Now variable 'a' has value from variable 'b': 10\n",
      "Now variable 'b' has value from variable 'a': 5\n"
     ]
    }
   ],
   "source": [
    "a = 5\n",
    "b = 10\n",
    "print(f\"Original value for variable 'a': {a}\")\n",
    "print(f\"Original value for variable 'b': {b}\")\n",
    "a = a + b\n",
    "b = a - b\n",
    "a = a - b\n",
    "print(f\"Now variable 'a' has value from variable 'b': {a}\")\n",
    "print(f\"Now variable 'b' has value from variable 'a': {b}\")\n"
   ]
  },
  {
   "cell_type": "markdown",
   "id": "ca72c78c-e095-4de5-a1d0-6ba7b9933f04",
   "metadata": {},
   "source": [
    "#### Create a variable that stores a list of three favorite foods and print them."
   ]
  },
  {
   "cell_type": "code",
   "execution_count": 20,
   "id": "afb0b2e9-e540-4c96-b9c0-81df9293f97a",
   "metadata": {},
   "outputs": [
    {
     "name": "stdout",
     "output_type": "stream",
     "text": [
      "Apple\n",
      "Lemon\n",
      "Banana\n"
     ]
    }
   ],
   "source": [
    "favorite_foods = [\"apple\", \"lemon\", \"banana\"]\n",
    "for fruit in favorite_foods:\n",
    "    print(fruit.title())"
   ]
  },
  {
   "cell_type": "markdown",
   "id": "4aaec76a-4162-4718-b2ae-17bd47d97ea2",
   "metadata": {},
   "source": [
    "#### Concatenate two strings into one full sentence."
   ]
  },
  {
   "cell_type": "code",
   "execution_count": 22,
   "id": "2104b0ce-15c1-47de-a124-ade7b003ca14",
   "metadata": {},
   "outputs": [
    {
     "name": "stdout",
     "output_type": "stream",
     "text": [
      "Concatenated string:\n",
      "String 1 is concatenated with String 2\n"
     ]
    }
   ],
   "source": [
    "str1 = \"String 1 is concatenated with\"\n",
    "str2 = \" String 2\"\n",
    "concat_string = str1 + str2\n",
    "print(f\"Concatenated string:\\n{concat_string}\")"
   ]
  },
  {
   "cell_type": "markdown",
   "id": "845fc17a-5c12-4947-b067-351ca97fb733",
   "metadata": {},
   "source": [
    "#### Calculate the average of three numbers stored in variables."
   ]
  },
  {
   "cell_type": "code",
   "execution_count": 47,
   "id": "2fa6cd44-c766-4398-b9ef-860146d77dc9",
   "metadata": {},
   "outputs": [
    {
     "name": "stdout",
     "output_type": "stream",
     "text": [
      "Collecting random numbers...\n",
      "First number collected: 50\n",
      "Second number collected: 89\n",
      "Third number collected: 70\n",
      "Calculating average of numbers collected...\n",
      "The average calculation for numbers above is: 69.67\n"
     ]
    }
   ],
   "source": [
    "import random\n",
    "\n",
    "print(\"Collecting random numbers...\")\n",
    "number_1 = random.randint(1, 100)\n",
    "print(f\"First number collected: {number_1}\")\n",
    "number_2 = random.randint(1, 100)\n",
    "print(f\"Second number collected: {number_2}\")\n",
    "number_3 = random.randint(1, 100)\n",
    "print(f\"Third number collected: {number_3}\")\n",
    "random_list_collector = list()\n",
    "random_list_collector.append(number_1)\n",
    "random_list_collector.append(number_2)\n",
    "random_list_collector.append(number_3)\n",
    "\n",
    "total_numbers = 0\n",
    "for x in random_list_collector:\n",
    "    total_numbers += x\n",
    "    \n",
    "print(\"Calculating average of numbers collected...\")\n",
    "average_operation = total_numbers / len(random_list_collector)\n",
    "print(\"The average calculation for numbers above is: {:0.2f}\".format(average_operation))\n"
   ]
  },
  {
   "cell_type": "markdown",
   "id": "f434d950-34cb-40c2-b2d8-d6025960963c",
   "metadata": {},
   "source": [
    "#### Print the data type of variables: string, integer, float, boolean."
   ]
  },
  {
   "cell_type": "code",
   "execution_count": 51,
   "id": "77f9ae06-ac56-43e8-856d-e54979fad82c",
   "metadata": {},
   "outputs": [
    {
     "name": "stdout",
     "output_type": "stream",
     "text": [
      "Type for Something here is <class 'str'>\n",
      "Type for 22 is <class 'int'>\n",
      "Type for 23.0 is <class 'float'>\n",
      "Type for True is <class 'bool'>\n"
     ]
    }
   ],
   "source": [
    "var_string = \"Something here\"\n",
    "int_var = 22\n",
    "float_var = 23.0\n",
    "bool_var = True\n",
    "\n",
    "print(f\"Type for {var_string} is {type(var_string)}\")\n",
    "print(f\"Type for {int_var} is {type(int_var)}\")\n",
    "print(f\"Type for {float_var} is {type(float_var)}\")\n",
    "print(f\"Type for {bool_var} is {type(bool_var)}\")"
   ]
  },
  {
   "cell_type": "markdown",
   "id": "70f971a5-e3da-4541-b55c-06531f9f6fba",
   "metadata": {},
   "source": [
    "#### Round a floating number to 2 decimal places."
   ]
  },
  {
   "cell_type": "code",
   "execution_count": 55,
   "id": "b4be614e-8d16-4667-99aa-cb4877ee58c9",
   "metadata": {},
   "outputs": [
    {
     "name": "stdout",
     "output_type": "stream",
     "text": [
      "Collecting random numbers...\n",
      "First number collected: 53\n",
      "Second number collected: 76\n",
      "Third number collected: 62\n",
      "Calculating average of numbers collected...\n",
      "Whole number is: 63.666666666666664 and rounded: 63.67\n"
     ]
    }
   ],
   "source": [
    "import random\n",
    "\n",
    "print(\"Collecting random numbers...\")\n",
    "number_1 = random.randint(1, 100)\n",
    "print(f\"First number collected: {number_1}\")\n",
    "number_2 = random.randint(1, 100)\n",
    "print(f\"Second number collected: {number_2}\")\n",
    "number_3 = random.randint(1, 100)\n",
    "print(f\"Third number collected: {number_3}\")\n",
    "random_list_collector = list()\n",
    "random_list_collector.append(number_1)\n",
    "random_list_collector.append(number_2)\n",
    "random_list_collector.append(number_3)\n",
    "\n",
    "total_numbers = 0\n",
    "for x in random_list_collector:\n",
    "    total_numbers += x\n",
    "    \n",
    "print(\"Calculating average of numbers collected...\")\n",
    "average_operation = total_numbers / len(random_list_collector)\n",
    "print(\"Whole number is: {} and rounded: {:0.2f}\".format(average_operation, average_operation))"
   ]
  },
  {
   "cell_type": "code",
   "execution_count": null,
   "id": "37bde3f7-d4a1-4e75-91a6-d9c5a1eea3e5",
   "metadata": {},
   "outputs": [],
   "source": []
  }
 ],
 "metadata": {
  "kernelspec": {
   "display_name": "Python 3 (ipykernel)",
   "language": "python",
   "name": "python3"
  },
  "language_info": {
   "codemirror_mode": {
    "name": "ipython",
    "version": 3
   },
   "file_extension": ".py",
   "mimetype": "text/x-python",
   "name": "python",
   "nbconvert_exporter": "python",
   "pygments_lexer": "ipython3",
   "version": "3.12.1"
  }
 },
 "nbformat": 4,
 "nbformat_minor": 5
}
